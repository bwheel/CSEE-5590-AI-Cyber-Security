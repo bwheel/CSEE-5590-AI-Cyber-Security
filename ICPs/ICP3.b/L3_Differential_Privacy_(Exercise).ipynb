{
  "nbformat": 4,
  "nbformat_minor": 0,
  "metadata": {
    "colab": {
      "name": "L3-Differential Privacy (Exercise).ipynb",
      "version": "0.3.2",
      "provenance": [],
      "collapsed_sections": [
        "K9h85ktU5BK1",
        "MV12MsPI5BK1",
        "x8r7HiI25BK2",
        "JFrUdcRH5BLB",
        "Q8CwLoPU5BLM"
      ]
    },
    "language_info": {
      "codemirror_mode": {
        "name": "ipython",
        "version": 3
      },
      "file_extension": ".py",
      "mimetype": "text/x-python",
      "name": "python",
      "nbconvert_exporter": "python",
      "pygments_lexer": "ipython3",
      "version": "3.6.1"
    },
    "kernelspec": {
      "name": "python3",
      "display_name": "Python 3"
    },
    "accelerator": "GPU"
  },
  "cells": [
    {
      "cell_type": "markdown",
      "metadata": {
        "id": "ZU0JgNTD5BJK",
        "colab_type": "text"
      },
      "source": [
        "## Toy Differential Privacy - Simple Database Queries"
      ]
    },
    {
      "cell_type": "markdown",
      "metadata": {
        "id": "wbKYWRrD5BJK",
        "colab_type": "text"
      },
      "source": [
        "In the context of Deep Learning, Differential Privacy ensures that the DL algorithms learns only what is is supposed to learn from the data while ignoring what it is not supposed to learn from the data. This is called Differential Privacy (DP). But what is DP?\n",
        "\n",
        "\n",
        "\n",
        "\n",
        "\n",
        "**Differential Privacy (DP):** \n",
        "The main goal is to ensure that statistical analysis techniques does not compromise the privacy of any particular individual in the dataset. \n",
        "\n",
        "*  Classical privacy defination: privacy is preserved if after the analysis is done, the analyzer does not know anything about the people in the dataset. (No information leak from the data.)\n",
        "\n",
        "- The Netflix Prize (anonymized simply! Attacked using the Linkage Attack)\n",
        "- Anonymization is not enough to protect our privacy\n",
        "\n",
        "A modern definition by Cynthia Dwork:\n",
        "DP describes a promise made by the data holder to a data subject that:  \"you will not be affected by allowing your data to be used in any study or analysis , no matter what other studies, datasets, or information sources are available\".\n",
        "\n",
        "\n",
        "**DP** is a mathematical definition of privacy. In the simplest setting, consider an algorithm that analyzes a dataset and computes statistics about it (such as the data's mean, variance, median, mode, etc.). Such an algorithm is said to be differentially private if by looking at the output, one cannot tell whether any individual's data was included in the original dataset or not. \n"
      ]
    },
    {
      "cell_type": "markdown",
      "metadata": {
        "id": "tlqpsupNwzdd",
        "colab_type": "text"
      },
      "source": [
        "\n",
        "\n",
        "---\n",
        "\n",
        "\n",
        "In this section we're going to play around with Differential Privacy in the context of a database query. The database is going to be a VERY simple database with only one boolean vector. Each row corresponds to a person. Each value corresponds to whether or not that person has a certain private attribute (such as whether they have a certain disease, or whether they are above/below a certain age). \n",
        "\n",
        "We are then going to learn how to know whether a database query over such a small database is differentially private or not - and more importantly - what techniques are at our disposal to ensure various levels of privacy\n",
        "\n",
        "\n",
        "### First We Create a Simple Database\n",
        "\n",
        "Step one is to create our database - we're going to do this by initializing a random list of 1s and 0s (which are the entries in our database). Note - the number of entries directly corresponds to the number of people in our database."
      ]
    },
    {
      "cell_type": "code",
      "metadata": {
        "id": "jzGB2H925BJL",
        "colab_type": "code",
        "outputId": "ad128cf0-67ce-4126-fc44-b109248a1379",
        "colab": {
          "base_uri": "https://localhost:8080/",
          "height": 35
        }
      },
      "source": [
        "import torch\n",
        "\n",
        "# the number of entries in our database\n",
        "num_entries = 5000\n",
        "\n",
        "db = torch.rand(num_entries) > 0.5 # returns a new Boolean tensor with each value > 0.5 set to 1 otherwise set to 0\n",
        "db"
      ],
      "execution_count": 0,
      "outputs": [
        {
          "output_type": "execute_result",
          "data": {
            "text/plain": [
              "tensor([1, 1, 0,  ..., 1, 1, 1], dtype=torch.uint8)"
            ]
          },
          "metadata": {
            "tags": []
          },
          "execution_count": 5
        }
      ]
    },
    {
      "cell_type": "markdown",
      "metadata": {
        "id": "08nxGBFT5BJQ",
        "colab_type": "text"
      },
      "source": [
        "## Project: Generate Parallel Databases\n",
        "\n",
        "Key to the definition of differenital privacy is the ability to ask the question \"When querying a database, if I removed someone from the database, would the output of the query be any different?\". Thus, in order to check this, we must construct what we term \"parallel databases\" which are simply databases with one entry removed. \n",
        "\n",
        "In this first project, I want you to create a list of every parallel database to the one currently contained in the \"db\" variable. Then, I want you to create a function which both:\n",
        "\n",
        "- creates the initial database (db)\n",
        "- creates all parallel databases"
      ]
    },
    {
      "cell_type": "code",
      "metadata": {
        "id": "WpWkwFBh5BJQ",
        "colab_type": "code",
        "colab": {}
      },
      "source": [
        "import torch"
      ],
      "execution_count": 0,
      "outputs": []
    },
    {
      "cell_type": "code",
      "metadata": {
        "id": "NNvnoh1B5BJS",
        "colab_type": "code",
        "outputId": "25556faf-5e3a-4b54-b38b-a34439805187",
        "colab": {
          "base_uri": "https://localhost:8080/",
          "height": 35
        }
      },
      "source": [
        "def create_db(entries):\n",
        "  return torch.rand(entries) > 0.5\n",
        "db = create_db(5000)\n",
        "db"
      ],
      "execution_count": 0,
      "outputs": [
        {
          "output_type": "execute_result",
          "data": {
            "text/plain": [
              "tensor([0, 0, 1,  ..., 0, 1, 1], dtype=torch.uint8)"
            ]
          },
          "metadata": {
            "tags": []
          },
          "execution_count": 7
        }
      ]
    },
    {
      "cell_type": "code",
      "metadata": {
        "id": "QmtQw-R15BJU",
        "colab_type": "code",
        "colab": {}
      },
      "source": [
        "# create a function to create paraller db\n",
        "def get_parallel_dbs(db):\n",
        "\n",
        "    parallel_dbs = list()\n",
        "\n",
        "    for i in range(len(db)):\n",
        "        pdb = torch.cat((db[0:i], db[i+1:]))\n",
        "        parallel_dbs.append(pdb)\n",
        "    #print(f'A databse of size {db.shape} was created')\n",
        "    return parallel_dbs\n",
        "\n",
        "pdb = get_parallel_dbs(db)\n"
      ],
      "execution_count": 0,
      "outputs": []
    },
    {
      "cell_type": "code",
      "metadata": {
        "id": "zGnmz4Os5BJV",
        "colab_type": "code",
        "colab": {}
      },
      "source": [
        "# a helper function for the future\n",
        "def get_db_and_parallel(num_entries):\n",
        "  db = torch.rand(num_entries) > 0.5\n",
        "  pdb = get_parallel_dbs(db)\n",
        "  return db, pdb"
      ],
      "execution_count": 0,
      "outputs": []
    },
    {
      "cell_type": "code",
      "metadata": {
        "id": "QjboW-h95BJX",
        "colab_type": "code",
        "colab": {}
      },
      "source": [
        ""
      ],
      "execution_count": 0,
      "outputs": []
    },
    {
      "cell_type": "markdown",
      "metadata": {
        "id": "FDztwe045BJZ",
        "colab_type": "text"
      },
      "source": [
        "# Lesson: Towards Evaluating The Differential Privacy of a Function\n",
        "\n",
        "Intuitively, we want to be able to query our database and evaluate whether or not the result of the query is leaking \"private\" information. As mentioned previously, this is about evaluating whether the output of a query changes when we remove someone from the database. Specifically, we want to evaluate the *maximum* amount the query changes when someone is removed (maximum over all possible people who could be removed). So, in order to evaluate how much privacy is leaked, we're going to iterate over each person in the database and measure the difference in the output of the query relative to when we query the entire database. \n",
        "\n",
        "Just for the sake of argument, let's make our first \"database query\" a simple sum. Aka, we're going to count the number of 1s in the database."
      ]
    },
    {
      "cell_type": "code",
      "metadata": {
        "id": "_ChVS5xE5BJZ",
        "colab_type": "code",
        "colab": {}
      },
      "source": [
        ""
      ],
      "execution_count": 0,
      "outputs": []
    },
    {
      "cell_type": "code",
      "metadata": {
        "id": "08H6IgeS5BJb",
        "colab_type": "code",
        "colab": {}
      },
      "source": [
        ""
      ],
      "execution_count": 0,
      "outputs": []
    },
    {
      "cell_type": "code",
      "metadata": {
        "id": "hvmsUntP5BJe",
        "colab_type": "code",
        "colab": {}
      },
      "source": [
        ""
      ],
      "execution_count": 0,
      "outputs": []
    },
    {
      "cell_type": "code",
      "metadata": {
        "id": "j3jrqjMI5BJh",
        "colab_type": "code",
        "outputId": "0ddcfb92-3dcf-4bca-dd0b-a1a4909396c6",
        "colab": {
          "base_uri": "https://localhost:8080/",
          "height": 87
        }
      },
      "source": [
        "sensitivity = 0  # maximum difference between query(db) and each query(pdb)\n",
        "db, pdb = get_db_and_parallel(5000)\n",
        "print(db.shape)\n",
        "print(pdb[0].shape)\n",
        "\n",
        "# return the value of sensitivity\n",
        "# loop on each pdb in the pdbs and calculate its distance\n",
        "max_diff = 0\n",
        "total = torch.sum(db)\n",
        "print(f'Total:{total}')\n",
        "for element in pdb:\n",
        "  pdb_total = torch.sum(element)\n",
        "  diff = total - pdb_total\n",
        "  max_diff = diff if diff > max_diff else max_diff\n",
        "print(f\"Maximum diff: {max_diff}\")\n",
        "  # find the maximum distance <-- that's your sensitivity"
      ],
      "execution_count": 0,
      "outputs": [
        {
          "output_type": "stream",
          "text": [
            "torch.Size([5000])\n",
            "torch.Size([4999])\n",
            "Total:2473\n",
            "Maximum diff: 1\n"
          ],
          "name": "stdout"
        }
      ]
    },
    {
      "cell_type": "code",
      "metadata": {
        "id": "KvRJWrqK5BJj",
        "colab_type": "code",
        "outputId": "d508cafd-3df1-4e57-ac93-83f487b0b949",
        "colab": {
          "base_uri": "https://localhost:8080/",
          "height": 35
        }
      },
      "source": [
        "sensitivity"
      ],
      "execution_count": 0,
      "outputs": [
        {
          "output_type": "execute_result",
          "data": {
            "text/plain": [
              "0"
            ]
          },
          "metadata": {
            "tags": []
          },
          "execution_count": 7
        }
      ]
    },
    {
      "cell_type": "markdown",
      "metadata": {
        "id": "30nCWZaG5BJl",
        "colab_type": "text"
      },
      "source": [
        "\n",
        "\n",
        "\n",
        "# Exercise - Evaluating the Privacy of a Function\n",
        "\n",
        "In the last section, we measured the difference between each parallel db's query result and the query result for the entire database and then calculated the max value (which was 1). This value is called \"sensitivity\", and it corresponds to the function we chose for the query. Namely, the \"sum\" query will always have a sensitivity of exactly 1. However, we can also calculate sensitivity for other functions as well.\n",
        "\n",
        "First, create a function that will accept (1) a query function and (2) a num_items to generate the db and the pdb: \n",
        "\n",
        "**Hint:** def sensitivity(query, num_items)"
      ]
    },
    {
      "cell_type": "code",
      "metadata": {
        "id": "1horUInX5BJm",
        "colab_type": "code",
        "colab": {}
      },
      "source": [
        "# define a function to calculate the sensitivity of a query\n",
        "def sensitivity(query, num_items):\n",
        "  \n",
        "  # generate the db and the pdbs\n",
        "  db, pdbs = get_db_and_parallel(num_items)\n",
        "  \n",
        "  # query the db\n",
        "  db_query = query(db)\n",
        "  #print(f\"db_query: {db_query}\")\n",
        "  # return the value of sensitivity\n",
        "  sensitivity = 0\n",
        "  \n",
        "  # loop on each pdb in the pdbs and calculate its distance\n",
        "  for pdb in pdbs:\n",
        "    pdb_query = query(pdb)\n",
        "    if(db_query - pdb_query) > sensitivity:\n",
        "      # find the maximum distance <-- that's your sensitivity\n",
        "      sensitivity = pdb_query\n",
        "    \n",
        "  return db_query - sensitivity  \n",
        "  "
      ],
      "execution_count": 0,
      "outputs": []
    },
    {
      "cell_type": "code",
      "metadata": {
        "id": "oDIqo7Jj5BJn",
        "colab_type": "code",
        "colab": {}
      },
      "source": [
        "# recreate the sum query we created earlier\n",
        "query = torch.sum\n"
      ],
      "execution_count": 0,
      "outputs": []
    },
    {
      "cell_type": "code",
      "metadata": {
        "id": "RrIqncaK5BJo",
        "colab_type": "code",
        "outputId": "783ade08-4df6-4c8e-c69c-1f201e7abed2",
        "colab": {
          "base_uri": "https://localhost:8080/",
          "height": 191
        }
      },
      "source": [
        "# test your sensitivity function with the sum query\n",
        "sensitivity(query, 5000)\n",
        "for i in range(10):\n",
        "  s = sensitivity(query, 10)\n",
        "  print(s)"
      ],
      "execution_count": 0,
      "outputs": [
        {
          "output_type": "stream",
          "text": [
            "tensor(1)\n",
            "tensor(1)\n",
            "tensor(1)\n",
            "tensor(1)\n",
            "tensor(1)\n",
            "tensor(1)\n",
            "tensor(1)\n",
            "tensor(1)\n",
            "tensor(1)\n",
            "tensor(1)\n"
          ],
          "name": "stdout"
        }
      ]
    },
    {
      "cell_type": "code",
      "metadata": {
        "id": "Q1x-ei2s5BJq",
        "colab_type": "code",
        "colab": {}
      },
      "source": [
        "# create a new query function, which finds the mean rather than the sum\n",
        "def calc_mean(db):\n",
        "  return db.float().mean()\n",
        "query = calc_mean"
      ],
      "execution_count": 0,
      "outputs": []
    },
    {
      "cell_type": "code",
      "metadata": {
        "id": "Lu9z_WHA5BJr",
        "colab_type": "code",
        "outputId": "10f23c53-2d0a-4d89-db2e-da4e39e61f8e",
        "colab": {
          "base_uri": "https://localhost:8080/",
          "height": 191
        }
      },
      "source": [
        "# test your sensitivity function of the Mean query\n",
        "# how much the output value (query) is using informaiton frmo each of the participating observations\n",
        "sensitivity(query, 1000)\n",
        "for i in range(10):\n",
        "  s = sensitivity(query, 10)\n",
        "  print(s)"
      ],
      "execution_count": 0,
      "outputs": [
        {
          "output_type": "stream",
          "text": [
            "tensor(0.0889)\n",
            "tensor(0.0444)\n",
            "tensor(0.0889)\n",
            "tensor(0.0778)\n",
            "tensor(0.0667)\n",
            "tensor(0.0667)\n",
            "tensor(0.0778)\n",
            "tensor(0.0444)\n",
            "tensor(0.0667)\n",
            "tensor(0.0778)\n"
          ],
          "name": "stdout"
        }
      ]
    },
    {
      "cell_type": "code",
      "metadata": {
        "id": "ep7ZWONu5BJw",
        "colab_type": "code",
        "colab": {}
      },
      "source": [
        ""
      ],
      "execution_count": 0,
      "outputs": []
    },
    {
      "cell_type": "markdown",
      "metadata": {
        "id": "BFQfOp2Z5BJy",
        "colab_type": "text"
      },
      "source": [
        "Wow! That sensitivity is WAY lower. Note the intuition here. \"Sensitivity\" is measuring how sensitive the output of the query is to a person being removed from the database. For a simple sum, this is always 1, but for the mean, removing a person is going to change the result of the query by rougly 1 divided by the size of the database (which is much smaller). Thus, \"mean\" is a VASTLY less \"sensitive\" function (query) than SUM."
      ]
    },
    {
      "cell_type": "markdown",
      "metadata": {
        "id": "VE1uK8YW5BJz",
        "colab_type": "text"
      },
      "source": [
        "# Exercise: Calculate L1 Sensitivity For Threshold\n",
        "\n",
        "In this exercise, you need to calculate the sensitivty for the \"threshold\" function. \n",
        "\n",
        "- First compute the sum over the database (i.e. sum(db)) and return whether that sum is greater than a certain threshold.\n",
        "\n",
        "- Then, create databases of size 10 and threshold of 5 and calculate the sensitivity of the function. \n",
        "\n",
        "- Finally, re-initialize the database 10 times and calculate the sensitivity each time."
      ]
    },
    {
      "cell_type": "code",
      "metadata": {
        "id": "WWjqHplZ5BJz",
        "colab_type": "code",
        "colab": {}
      },
      "source": [
        "# define a fucntion to query the sum and return wethere the sum is greater or less than a threshold\n",
        "def threshold(db):\n",
        "  return sum(db) > 5\n",
        "query = threshold"
      ],
      "execution_count": 0,
      "outputs": []
    },
    {
      "cell_type": "code",
      "metadata": {
        "id": "twbkT1cO5BJ1",
        "colab_type": "code",
        "outputId": "f8a5a2ee-79e6-4521-85b2-ea8413bc9b16",
        "colab": {
          "base_uri": "https://localhost:8080/",
          "height": 35
        }
      },
      "source": [
        "# the sensitivity with db of size 10 and threshold of 5\n",
        "\n",
        "s = sensitivity(query, 10)\n",
        "print(s)"
      ],
      "execution_count": 0,
      "outputs": [
        {
          "output_type": "stream",
          "text": [
            "tensor(0, dtype=torch.uint8)\n"
          ],
          "name": "stdout"
        }
      ]
    },
    {
      "cell_type": "code",
      "metadata": {
        "id": "rQdXh4pX5BJ3",
        "colab_type": "code",
        "outputId": "493b54de-633e-4e20-95fd-a3431de19982",
        "colab": {
          "base_uri": "https://localhost:8080/",
          "height": 191
        }
      },
      "source": [
        "# repeat for 10 times\n",
        "for i in range(10):\n",
        "  s = sensitivity(threshold, 10)\n",
        "  print(s)"
      ],
      "execution_count": 0,
      "outputs": [
        {
          "output_type": "stream",
          "text": [
            "tensor(0, dtype=torch.uint8)\n",
            "tensor(1, dtype=torch.uint8)\n",
            "tensor(1, dtype=torch.uint8)\n",
            "tensor(1, dtype=torch.uint8)\n",
            "tensor(1, dtype=torch.uint8)\n",
            "tensor(1, dtype=torch.uint8)\n",
            "tensor(1, dtype=torch.uint8)\n",
            "tensor(0, dtype=torch.uint8)\n",
            "tensor(0, dtype=torch.uint8)\n",
            "tensor(0, dtype=torch.uint8)\n"
          ],
          "name": "stdout"
        }
      ]
    },
    {
      "cell_type": "code",
      "metadata": {
        "id": "939aUgmb5BJ5",
        "colab_type": "code",
        "colab": {}
      },
      "source": [
        ""
      ],
      "execution_count": 0,
      "outputs": []
    },
    {
      "cell_type": "markdown",
      "metadata": {
        "id": "uSpX8dIj5BKB",
        "colab_type": "text"
      },
      "source": [
        "# A Basic Differencing Attack\n",
        "\n",
        "Sadly none of the functions we've looked at so far are differentially private (despite them having varying levels of sensitivity). The most basic type of attack can be done as follows.\n",
        "\n",
        "Let's say we wanted to figure out a specific person's value in the database. All we would have to do is query for the sum of the entire database and then the sum of the entire database without that person!\n",
        "\n",
        "# Exercise:  Perform a Differencing Attack on Row 10\n",
        "\n",
        "In this project, construct a database and then demonstrate how you can use  different queries (sum, threshold, and mean) to explose the value of the person represented by row 10 in the database (note, you'll need to use a database with at least 10 rows)"
      ]
    },
    {
      "cell_type": "code",
      "metadata": {
        "id": "V3fQ-5Yr5BKC",
        "colab_type": "code",
        "outputId": "55dc2d85-6270-4c54-df6a-62bed1d79c95",
        "colab": {
          "base_uri": "https://localhost:8080/",
          "height": 104
        }
      },
      "source": [
        "# Perform a differencing attack using the sum query on row 10\n",
        "db_size = 10\n",
        "print(f\"Creating database of {db_size} rows\")\n",
        "db = create_db(db_size)\n",
        "print(db)\n",
        "\n",
        "db_sum = db.sum()\n",
        "pdb_sum = db[:-1].sum()\n",
        "\n",
        "# take the difference\n",
        "diff_sum = db_sum - pdb_sum\n",
        "print(diff_sum)\n",
        "# reverse engineer the total, by checking what is left from the total.\n",
        "print(f\"The 10th row's value is {int(db[-1])}\")\n",
        "correct = \"yes\" if int(db[-1]) == diff_sum else \"no\"\n",
        "print(f\"Did it predict it? {correct}\")\n",
        "  "
      ],
      "execution_count": 0,
      "outputs": [
        {
          "output_type": "stream",
          "text": [
            "Creating database of 10 rows\n",
            "tensor([1, 0, 0, 1, 1, 1, 0, 1, 1, 0], dtype=torch.uint8)\n",
            "tensor(0)\n",
            "The 10th row's value is 0\n",
            "Did it predict it? yes\n"
          ],
          "name": "stdout"
        }
      ]
    },
    {
      "cell_type": "code",
      "metadata": {
        "id": "3BpMubXO5BKD",
        "colab_type": "code",
        "outputId": "f5e98df0-957a-41e4-f5ce-644a0999c678",
        "colab": {
          "base_uri": "https://localhost:8080/",
          "height": 69
        }
      },
      "source": [
        "# Perform a differencing attack using the mean query on row 10\n",
        "db_size = 10\n",
        "print(f\"Creating database of {db_size} rows\")\n",
        "db = create_db(db_size)\n",
        "pdb = db[:-1]\n",
        "print(db)\n",
        "result = 0 if (sum(db).float() / len(db)) - (sum(pdb.float() /len(pdb))) < 0 else 1\n",
        "print(result)"
      ],
      "execution_count": 0,
      "outputs": [
        {
          "output_type": "stream",
          "text": [
            "Creating database of 10 rows\n",
            "tensor([0, 0, 1, 0, 0, 0, 1, 1, 0, 1], dtype=torch.uint8)\n",
            "1\n"
          ],
          "name": "stdout"
        }
      ]
    },
    {
      "cell_type": "code",
      "metadata": {
        "id": "302S0ZEr5BKF",
        "colab_type": "code",
        "outputId": "9df9b2da-504c-473c-aa86-25ea402173ed",
        "colab": {
          "base_uri": "https://localhost:8080/",
          "height": 87
        }
      },
      "source": [
        "# Perform a differencing attack using the threshold query on row 10\n",
        "db_size = 10\n",
        "print(f\"Creating database of {db_size} rows\")\n",
        "db = create_db(db_size)\n",
        "print(f\"db{db}\")\n",
        "pdb = db[:-1]\n",
        "print(f\"pdb{pdb}\")\n",
        "\n",
        "result = (sum(db) > sum(db) - 1) - (sum(pdb) > sum(db) - 1)\n",
        "\n",
        "print(result)"
      ],
      "execution_count": 0,
      "outputs": [
        {
          "output_type": "stream",
          "text": [
            "Creating database of 10 rows\n",
            "dbtensor([0, 1, 1, 0, 0, 0, 0, 1, 0, 1], dtype=torch.uint8)\n",
            "pdbtensor([0, 1, 1, 0, 0, 0, 0, 1, 0], dtype=torch.uint8)\n",
            "tensor(1, dtype=torch.uint8)\n"
          ],
          "name": "stdout"
        }
      ]
    },
    {
      "cell_type": "markdown",
      "metadata": {
        "id": "768QSDSa5BKP",
        "colab_type": "text"
      },
      "source": [
        "# Project: Local Differential Privacy\n",
        "\n",
        "As you can see, the basic sum query is not differentially private at all! In truth, differential privacy always requires a form of randomness added to the query. Let me show you what I mean.\n",
        "\n",
        "### Randomized Response (Local Differential Privacy)\n",
        "\n",
        "Let's say I have a group of people I wish to survey about a very taboo behavior which I think they will lie about (say, I want to know if they have ever committed a certain kind of crime). I'm not a policeman, I'm just trying to collect statistics to understand the higher level trend in society. So, how do we do this? One technique is to add randomness to each person's response by giving each person the following instructions (assuming I'm asking a simple yes/no question):\n",
        "\n",
        "- Flip a coin 2 times.\n",
        "- If the first coin flip is heads, answer honestly\n",
        "- If the first coin flip is tails, answer according to the second coin flip (heads for yes, tails for no)!\n",
        "\n",
        "Thus, each person is now protected with \"plausible deniability\". If they answer \"Yes\" to the question \"have you committed X crime?\", then it might becasue they actually did, or it might be becasue they are answering according to a random coin flip. Each person has a high degree of protection. Furthermore, we can recover the underlying statistics with some accuracy, as the \"true statistics\" are simply averaged with a 50% probability. Thus, if we collect a bunch of samples and it turns out that 60% of people answer yes, then we know that the TRUE distribution is actually centered around 70%, because 70% averaged wtih 50% (a coin flip) is 60% which is the result we obtained. \n",
        "\n",
        "However, it should be noted that, especially when we only have a few samples, the this comes at the cost of accuracy. This tradeoff exists across all of Differential Privacy. The greater the privacy protection (plausible deniability) the less accurate the results. \n",
        "\n",
        "Let's implement this local DP for our database before!"
      ]
    },
    {
      "cell_type": "code",
      "metadata": {
        "id": "CLM49tzjLxl6",
        "colab_type": "code",
        "colab": {}
      },
      "source": [
        "import torch"
      ],
      "execution_count": 0,
      "outputs": []
    },
    {
      "cell_type": "code",
      "metadata": {
        "id": "II6920E8Lwvi",
        "colab_type": "code",
        "colab": {}
      },
      "source": [
        "def create_db(entries):\n",
        "  return torch.rand(entries) > 0.5"
      ],
      "execution_count": 0,
      "outputs": []
    },
    {
      "cell_type": "code",
      "metadata": {
        "id": "jfZkjLYc5BKQ",
        "colab_type": "code",
        "colab": {}
      },
      "source": [
        "def create_noisy_db(db, noise=0.5):\n",
        "  # make a \"flip\" tensor\n",
        "  flip1 = torch.rand(len(db)) > noise\n",
        "  \n",
        "  # make a second \"flip\" tensor\n",
        "  flip2 = torch.rand(len(db)) > 1 - noise\n",
        "  \n",
        "  # make a result tensor\n",
        "  noisy = db.clone().detach()\n",
        "  \n",
        "  # go through the db and update the noise tensor\n",
        "  for i in range(len(db)):\n",
        "    if flip1[i] == 1:\n",
        "      # keep\n",
        "      noisy[i] = db[i]\n",
        "    else:\n",
        "      noisy[i] = flip2[i]\n",
        "  return noisy"
      ],
      "execution_count": 0,
      "outputs": []
    },
    {
      "cell_type": "code",
      "metadata": {
        "id": "8Nlas8J25BKS",
        "colab_type": "code",
        "colab": {}
      },
      "source": [
        "def find_truth(noisy_mean, noise=0.5):\n",
        "  return (noisy_mean - ((1- noise) *noise )) / .5\n",
        "  #return (1.0/noise)*(noisy_mean - ((1-noise) * 0.5))\n",
        "  #return (noisy_mean - (0.5) * ( 1 - noise)) / (0.5)"
      ],
      "execution_count": 0,
      "outputs": []
    },
    {
      "cell_type": "code",
      "metadata": {
        "id": "om0SRkvWFFTc",
        "colab_type": "code",
        "colab": {}
      },
      "source": [
        "\n",
        "def perform_analysis(entities, noise, query):\n",
        "  # create the original db\n",
        "  db_x = create_db(entities)\n",
        "  \n",
        "  # create the noisy db.\n",
        "  noisy_x = create_noisy_db(db_x, noise)\n",
        "  \n",
        "  # perform the query on the original dataset.\n",
        "  db_x_query = query(db_x)\n",
        "  \n",
        "  # perform the query on the noisy dataset, and get the truth(based on probability)\n",
        "  noisy_x_mean = query(noisy_x)\n",
        "  truth_x = find_truth(noisy_x_mean, noise)\n",
        "  \n",
        "  # return the query from the original and the truth.\n",
        "  return (db_x_query, truth_x)\n"
      ],
      "execution_count": 0,
      "outputs": []
    },
    {
      "cell_type": "code",
      "metadata": {
        "id": "g57d11q75BKU",
        "colab_type": "code",
        "colab": {}
      },
      "source": [
        "def query(db):\n",
        "  return db.float().mean()"
      ],
      "execution_count": 0,
      "outputs": []
    },
    {
      "cell_type": "code",
      "metadata": {
        "id": "mUkzuX8p5BKV",
        "colab_type": "code",
        "outputId": "d1e1be17-6fb1-4785-cd59-3e428268d7e9",
        "colab": {
          "base_uri": "https://localhost:8080/",
          "height": 364
        }
      },
      "source": [
        "\n",
        "noise = 0.5\n",
        "database_sizes = [10, 100, 1000, 10000, 10000000]\n",
        "for size in database_sizes:\n",
        "  (db_output, truth_output) = perform_analysis(database_size, noise, query)\n",
        "  print(f\"Database Size:{size}\")\n",
        "  print(db_output)\n",
        "  print(truth_output)\n",
        "  print()"
      ],
      "execution_count": 90,
      "outputs": [
        {
          "output_type": "stream",
          "text": [
            "Database Size:10\n",
            "tensor(0.5000)\n",
            "tensor(0.3000)\n",
            "\n",
            "Database Size:100\n",
            "tensor(0.3000)\n",
            "tensor(-0.3000)\n",
            "\n",
            "Database Size:1000\n",
            "tensor(0.3000)\n",
            "tensor(-0.1000)\n",
            "\n",
            "Database Size:10000\n",
            "tensor(0.5000)\n",
            "tensor(0.3000)\n",
            "\n",
            "Database Size:10000000\n",
            "tensor(0.2000)\n",
            "tensor(-0.1000)\n",
            "\n"
          ],
          "name": "stdout"
        }
      ]
    },
    {
      "cell_type": "code",
      "metadata": {
        "id": "SocgvjGL5BKW",
        "colab_type": "code",
        "outputId": "68473e3c-8e3d-45d9-e3a7-f1e0a7bbc8a7",
        "colab": {
          "base_uri": "https://localhost:8080/",
          "height": 225
        }
      },
      "source": [
        "# before I refactored above, this was my answer...\n",
        "\n",
        "noise = 0.5\n",
        "\n",
        "# database size 10\n",
        "\n",
        "db1 = create_db(10)\n",
        "noisy1 = create_noisy_db(db1, noise)\n",
        "db1_mean = query(db1)\n",
        "noisy1_mean = query(noisy1)\n",
        "\n",
        "truth1 = find_truth(noisy1_mean, noise)\n",
        "\n",
        "print(f\"db1.mean(): {db1_mean}\")\n",
        "print(f\"truth1: {truth1}\")\n",
        "print(f\"db1.mean() - truth1 : {db1_mean - truth1}\")\n",
        "print()\n",
        "\n",
        "# database size 100\n",
        "db2 = create_db(100)\n",
        "noisy2 = create_noisy_db(db2, noise)\n",
        "db2_mean = db2.float().mean()\n",
        "noisy2_mean = noisy2.float().mean()\n",
        "\n",
        "truth2 = find_truth(noisy2_mean, noise)\n",
        "\n",
        "print(f\"db2.mean(): {db2_mean}\")\n",
        "print(f\"truth2: {truth2}\")\n",
        "print(f\"db2.mean() - truth2 : {db2_mean - truth2}\")\n",
        "print()\n",
        "\n",
        "# database size 1000\n",
        "db3 = create_db(1000)\n",
        "noisy3 = create_noisy_db(db3, noise)\n",
        "db3_mean = db3.float().mean()\n",
        "noisy3_mean = noisy3.float().mean()\n",
        "\n",
        "truth3 = find_truth(noisy3_mean, noise)\n",
        "\n",
        "print(f\"db3.mean(): {db3_mean}\")\n",
        "print(f\"truth3: {noisy3_mean}\")\n",
        "print(f\"db3.mean() - truth3 : {db3_mean - truth3}\")\n",
        "print()"
      ],
      "execution_count": 93,
      "outputs": [
        {
          "output_type": "stream",
          "text": [
            "db1.mean(): 0.4000000059604645\n",
            "truth1: 0.7000000476837158\n",
            "db1.mean() - truth1 : -0.30000004172325134\n",
            "\n",
            "db2.mean(): 0.4399999976158142\n",
            "truth2: 0.42000001668930054\n",
            "db2.mean() - truth2 : 0.019999980926513672\n",
            "\n",
            "db3.mean(): 0.4699999988079071\n",
            "truth3: 0.4830000102519989\n",
            "db3.mean() - truth3 : 0.003999978303909302\n",
            "\n"
          ],
          "name": "stdout"
        }
      ]
    },
    {
      "cell_type": "code",
      "metadata": {
        "id": "Cn6w6-go5BKX",
        "colab_type": "code",
        "colab": {}
      },
      "source": [
        ""
      ],
      "execution_count": 0,
      "outputs": []
    },
    {
      "cell_type": "code",
      "metadata": {
        "id": "1DQMqP9b5BKZ",
        "colab_type": "code",
        "colab": {}
      },
      "source": [
        ""
      ],
      "execution_count": 0,
      "outputs": []
    },
    {
      "cell_type": "code",
      "metadata": {
        "id": "v98lFAei5BKb",
        "colab_type": "code",
        "colab": {}
      },
      "source": [
        ""
      ],
      "execution_count": 0,
      "outputs": []
    },
    {
      "cell_type": "code",
      "metadata": {
        "id": "_X6zgqZr5BKc",
        "colab_type": "code",
        "colab": {}
      },
      "source": [
        ""
      ],
      "execution_count": 0,
      "outputs": []
    },
    {
      "cell_type": "markdown",
      "metadata": {
        "id": "C-SgDHTp5BKd",
        "colab_type": "text"
      },
      "source": [
        "# Project: Varying Amounts of Noise\n",
        "\n",
        "In this project, I want you to augment the randomized response query (the one we just wrote) to allow for varying amounts of randomness to be added. Specifically, I want you to bias the coin flip to be higher or lower and then run the same experiment. \n",
        "\n",
        "Note - this one is a bit tricker than you might expect. You need to both adjust the likelihood of the first coin flip AND the de-skewing at the end (where we create the \"augmented_result\" variable)."
      ]
    },
    {
      "cell_type": "code",
      "metadata": {
        "id": "py7xHeKE5BKe",
        "colab_type": "code",
        "colab": {}
      },
      "source": [
        "import torch"
      ],
      "execution_count": 0,
      "outputs": []
    },
    {
      "cell_type": "code",
      "metadata": {
        "id": "bkXFuIXY5BKf",
        "colab_type": "code",
        "colab": {}
      },
      "source": [
        "def create_db(entries):\n",
        "  return torch.rand(entries) > 0.5"
      ],
      "execution_count": 0,
      "outputs": []
    },
    {
      "cell_type": "code",
      "metadata": {
        "id": "2Q5GcslJ5BKg",
        "colab_type": "code",
        "colab": {}
      },
      "source": [
        "def create_noisy_db(db, noise=0.5):\n",
        "  # make a \"flip\" tensor\n",
        "  flip1 = torch.rand(len(db)) > noise\n",
        "  \n",
        "  # make a second \"flip\" tensor\n",
        "  flip2 = torch.rand(len(db)) > 1 - noise\n",
        "  \n",
        "  # make a result tensor\n",
        "  noisy = db.clone().detach()\n",
        "  \n",
        "  # go through the db and update the noise tensor\n",
        "  for i in range(len(db)):\n",
        "    if flip1[i] == 1:\n",
        "      # keep\n",
        "      noisy[i] = db[i]\n",
        "    else:\n",
        "      noisy[i] = flip2[i]\n",
        "  return noisy"
      ],
      "execution_count": 0,
      "outputs": []
    },
    {
      "cell_type": "code",
      "metadata": {
        "id": "r7Q7_0wt5BKi",
        "colab_type": "code",
        "colab": {}
      },
      "source": [
        "def find_truth(noisy_mean, noise=0.5):\n",
        "  return (noisy_mean - (0.5) * ( 1 - noise)) / (0.5)"
      ],
      "execution_count": 0,
      "outputs": []
    },
    {
      "cell_type": "code",
      "metadata": {
        "id": "nW2yJSJl5BKn",
        "colab_type": "code",
        "colab": {}
      },
      "source": [
        "def perform_analysis(entities, noise, query):\n",
        "  # create the original db\n",
        "  db_x = create_db(entities)\n",
        "  \n",
        "  # create the noisy db.\n",
        "  noisy_x = create_noisy_db(db_x, noise)\n",
        "  \n",
        "  # perform the query on the original dataset.\n",
        "  db_x_query = query(db_x)\n",
        "  \n",
        "  # perform the query on the noisy dataset, and get the truth(based on probability)\n",
        "  noisy_x_mean = query(noisy_x)\n",
        "  truth_x = find_truth(noisy_x_mean, noise)\n",
        "  \n",
        "  # return the query from the original and the truth.\n",
        "  return (db_x_query, truth_x)\n"
      ],
      "execution_count": 0,
      "outputs": []
    },
    {
      "cell_type": "code",
      "metadata": {
        "id": "1PW-E5fr5BKp",
        "colab_type": "code",
        "colab": {}
      },
      "source": [
        "def query(db):\n",
        "  return db.float().mean()"
      ],
      "execution_count": 0,
      "outputs": []
    },
    {
      "cell_type": "code",
      "metadata": {
        "id": "J3RkGQHB5BKq",
        "colab_type": "code",
        "outputId": "c2e4987c-8259-40ee-d14a-e60edcf80a82",
        "colab": {
          "base_uri": "https://localhost:8080/",
          "height": 3657
        }
      },
      "source": [
        "noises = [0.2, 0.4, 0.5, 0.6, 0.8, 1.0]\n",
        "database_sizes = [10, 100, 1000, 10000, 10000000]\n",
        "\n",
        "for noise in noises:\n",
        "  for size in database_sizes:\n",
        "    (db_output, truth_output) = perform_analysis(database_size, noise, query)\n",
        "    print(f\"Database Size:{size}\")\n",
        "    print(f\"Noise: {noise}\")\n",
        "    print(db_output)\n",
        "    print(truth_output)\n",
        "    print(f\"difference: {abs(db_output - truth_output)}\")\n",
        "    print()"
      ],
      "execution_count": 0,
      "outputs": [
        {
          "output_type": "stream",
          "text": [
            "Database Size:10\n",
            "Noise: 0.0\n",
            "tensor(0.4000)\n",
            "tensor(inf)\n",
            "difference: inf\n",
            "\n",
            "Database Size:100\n",
            "Noise: 0.0\n",
            "tensor(0.4000)\n",
            "tensor(inf)\n",
            "difference: inf\n",
            "\n",
            "Database Size:1000\n",
            "Noise: 0.0\n",
            "tensor(0.5000)\n",
            "tensor(inf)\n",
            "difference: inf\n",
            "\n",
            "Database Size:10000\n",
            "Noise: 0.0\n",
            "tensor(0.5000)\n",
            "tensor(inf)\n",
            "difference: inf\n",
            "\n",
            "Database Size:10000000\n",
            "Noise: 0.0\n",
            "tensor(0.3000)\n",
            "tensor(inf)\n",
            "difference: inf\n",
            "\n",
            "Database Size:10\n",
            "Noise: 0.2\n",
            "tensor(0.7000)\n",
            "tensor(2.7000)\n",
            "difference: 1.999999761581421\n",
            "\n",
            "Database Size:100\n",
            "Noise: 0.2\n",
            "tensor(0.3000)\n",
            "tensor(0.7000)\n",
            "difference: 0.40000003576278687\n",
            "\n",
            "Database Size:1000\n",
            "Noise: 0.2\n",
            "tensor(0.3000)\n",
            "tensor(1.2000)\n",
            "difference: 0.9000000357627869\n",
            "\n",
            "Database Size:10000\n",
            "Noise: 0.2\n",
            "tensor(0.5000)\n",
            "tensor(1.2000)\n",
            "difference: 0.7000000476837158\n",
            "\n",
            "Database Size:10000000\n",
            "Noise: 0.2\n",
            "tensor(0.5000)\n",
            "tensor(1.7000)\n",
            "difference: 1.2000000476837158\n",
            "\n",
            "Database Size:10\n",
            "Noise: 0.4\n",
            "tensor(0.2000)\n",
            "tensor(0.1500)\n",
            "difference: 0.049999967217445374\n",
            "\n",
            "Database Size:100\n",
            "Noise: 0.4\n",
            "tensor(0.2000)\n",
            "tensor(-0.1000)\n",
            "difference: 0.29999998211860657\n",
            "\n",
            "Database Size:1000\n",
            "Noise: 0.4\n",
            "tensor(0.3000)\n",
            "tensor(0.4000)\n",
            "difference: 0.10000002384185791\n",
            "\n",
            "Database Size:10000\n",
            "Noise: 0.4\n",
            "tensor(0.8000)\n",
            "tensor(1.1500)\n",
            "difference: 0.34999996423721313\n",
            "\n",
            "Database Size:10000000\n",
            "Noise: 0.4\n",
            "tensor(0.5000)\n",
            "tensor(-0.1000)\n",
            "difference: 0.5999999642372131\n",
            "\n",
            "Database Size:10\n",
            "Noise: 0.5\n",
            "tensor(0.3000)\n",
            "tensor(0.5000)\n",
            "difference: 0.19999998807907104\n",
            "\n",
            "Database Size:100\n",
            "Noise: 0.5\n",
            "tensor(0.6000)\n",
            "tensor(0.5000)\n",
            "difference: 0.10000002384185791\n",
            "\n",
            "Database Size:1000\n",
            "Noise: 0.5\n",
            "tensor(0.7000)\n",
            "tensor(0.7000)\n",
            "difference: 5.960464477539063e-08\n",
            "\n",
            "Database Size:10000\n",
            "Noise: 0.5\n",
            "tensor(0.5000)\n",
            "tensor(1.1000)\n",
            "difference: 0.6000000238418579\n",
            "\n",
            "Database Size:10000000\n",
            "Noise: 0.5\n",
            "tensor(0.3000)\n",
            "tensor(0.3000)\n",
            "difference: 0.0\n",
            "\n",
            "Database Size:10\n",
            "Noise: 0.6\n",
            "tensor(0.7000)\n",
            "tensor(0.6000)\n",
            "difference: 0.09999996423721313\n",
            "\n",
            "Database Size:100\n",
            "Noise: 0.6\n",
            "tensor(0.5000)\n",
            "tensor(0.7667)\n",
            "difference: 0.26666659116744995\n",
            "\n",
            "Database Size:1000\n",
            "Noise: 0.6\n",
            "tensor(0.6000)\n",
            "tensor(0.6000)\n",
            "difference: 0.0\n",
            "\n",
            "Database Size:10000\n",
            "Noise: 0.6\n",
            "tensor(0.5000)\n",
            "tensor(0.1000)\n",
            "difference: 0.3999999761581421\n",
            "\n",
            "Database Size:10000000\n",
            "Noise: 0.6\n",
            "tensor(0.5000)\n",
            "tensor(0.2667)\n",
            "difference: 0.23333331942558289\n",
            "\n",
            "Database Size:10\n",
            "Noise: 0.8\n",
            "tensor(0.4000)\n",
            "tensor(0.8000)\n",
            "difference: 0.3999999463558197\n",
            "\n",
            "Database Size:100\n",
            "Noise: 0.8\n",
            "tensor(0.3000)\n",
            "tensor(0.6750)\n",
            "difference: 0.3749999403953552\n",
            "\n",
            "Database Size:1000\n",
            "Noise: 0.8\n",
            "tensor(0.2000)\n",
            "tensor(0.6750)\n",
            "difference: 0.47499996423721313\n",
            "\n",
            "Database Size:10000\n",
            "Noise: 0.8\n",
            "tensor(0.4000)\n",
            "tensor(0.8000)\n",
            "difference: 0.3999999463558197\n",
            "\n",
            "Database Size:10000000\n",
            "Noise: 0.8\n",
            "tensor(0.5000)\n",
            "tensor(0.9250)\n",
            "difference: 0.42500001192092896\n",
            "\n",
            "Database Size:10\n",
            "Noise: 1.0\n",
            "tensor(0.5000)\n",
            "tensor(1.)\n",
            "difference: 0.5\n",
            "\n",
            "Database Size:100\n",
            "Noise: 1.0\n",
            "tensor(0.6000)\n",
            "tensor(1.)\n",
            "difference: 0.3999999761581421\n",
            "\n",
            "Database Size:1000\n",
            "Noise: 1.0\n",
            "tensor(0.6000)\n",
            "tensor(1.)\n",
            "difference: 0.3999999761581421\n",
            "\n",
            "Database Size:10000\n",
            "Noise: 1.0\n",
            "tensor(0.6000)\n",
            "tensor(1.)\n",
            "difference: 0.3999999761581421\n",
            "\n",
            "Database Size:10000000\n",
            "Noise: 1.0\n",
            "tensor(0.6000)\n",
            "tensor(1.)\n",
            "difference: 0.3999999761581421\n",
            "\n"
          ],
          "name": "stdout"
        }
      ]
    },
    {
      "cell_type": "code",
      "metadata": {
        "id": "wbL6I-o_5BKt",
        "colab_type": "code",
        "colab": {}
      },
      "source": [
        ""
      ],
      "execution_count": 0,
      "outputs": []
    },
    {
      "cell_type": "code",
      "metadata": {
        "id": "p4jnIgi65BKv",
        "colab_type": "code",
        "colab": {}
      },
      "source": [
        ""
      ],
      "execution_count": 0,
      "outputs": []
    },
    {
      "cell_type": "code",
      "metadata": {
        "id": "acMUugJ-5BKx",
        "colab_type": "code",
        "colab": {}
      },
      "source": [
        ""
      ],
      "execution_count": 0,
      "outputs": []
    },
    {
      "cell_type": "markdown",
      "metadata": {
        "id": "EuiU5Q4B5BKy",
        "colab_type": "text"
      },
      "source": [
        "# Lesson: The Formal Definition of Differential Privacy\n",
        "\n",
        "The previous method of adding noise was called \"Local Differentail Privacy\" because we added noise to each datapoint individually. This is necessary for some situations wherein the data is SO sensitive that individuals do not trust noise to be added later. However, it comes at a very high cost in terms of accuracy. \n",
        "\n",
        "However, alternatively we can add noise AFTER data has been aggregated by a function. This kind of noise can allow for similar levels of protection with a lower affect on accuracy. However, participants must be able to trust that no-one looked at their datapoints _before_ the aggregation took place. In some situations this works out well, in others (such as an individual hand-surveying a group of people), this is less realistic.\n",
        "\n",
        "Nevertheless, global differential privacy is incredibly important because it allows us to perform differential privacy on smaller groups of individuals with lower amounts of noise. Let's revisit our sum functions."
      ]
    },
    {
      "cell_type": "code",
      "metadata": {
        "id": "yNQs1VWV5BKz",
        "colab_type": "code",
        "outputId": "eafaa853-9854-4592-b3a7-11beb62cf262",
        "colab": {}
      },
      "source": [
        "db, pdbs = create_db_and_parallels(100)\n",
        "\n",
        "def query(db):\n",
        "    return torch.sum(db.float())\n",
        "\n",
        "def M(db):\n",
        "    query(db) + noise\n",
        "\n",
        "query(db)"
      ],
      "execution_count": 0,
      "outputs": [
        {
          "output_type": "execute_result",
          "data": {
            "text/plain": [
              "tensor(40.)"
            ]
          },
          "metadata": {
            "tags": []
          },
          "execution_count": 40
        }
      ]
    },
    {
      "cell_type": "markdown",
      "metadata": {
        "id": "spyNhiCd5BK0",
        "colab_type": "text"
      },
      "source": [
        "So the idea here is that we want to add noise to the output of our function. We actually have two different kinds of noise we can add - Laplacian Noise or Gaussian Noise. However, before we do so at this point we need to dive into the formal definition of Differential Privacy.\n",
        "\n",
        "![alt text](dp_formula.png \"Title\")"
      ]
    },
    {
      "cell_type": "markdown",
      "metadata": {
        "id": "wdNKR7f_5BK1",
        "colab_type": "text"
      },
      "source": [
        "_Image From: \"The Algorithmic Foundations of Differential Privacy\" - Cynthia Dwork and Aaron Roth - https://www.cis.upenn.edu/~aaroth/Papers/privacybook.pdf_"
      ]
    },
    {
      "cell_type": "markdown",
      "metadata": {
        "id": "K9h85ktU5BK1",
        "colab_type": "text"
      },
      "source": [
        "This definition does not _create_ differential privacy, instead it is a measure of how much privacy is afforded by a query M. Specifically, it's a comparison between running the query M on a database (x) and a parallel database (y). As you remember, parallel databases are defined to be the same as a full database (x) with one entry/person removed.\n",
        "\n",
        "Thus, this definition says that FOR ALL parallel databases, the maximum distance between a query on database (x) and the same query on database (y) will be e^epsilon, but that occasionally this constraint won't hold with probability delta. Thus, this theorem is called \"epsilon delta\" differential privacy.\n",
        "\n",
        "# Epsilon\n",
        "\n",
        "Let's unpack the intuition of this for a moment. \n",
        "\n",
        "Epsilon Zero: If a query satisfied this inequality where epsilon was set to 0, then that would mean that the query for all parallel databases outputed the exact same value as the full database. As you may remember, when we calculated the \"threshold\" function, often the Sensitivity was 0. In that case, the epsilon also happened to be zero.\n",
        "\n",
        "Epsilon One: If a query satisfied this inequality with epsilon 1, then the maximum distance between all queries would be 1 - or more precisely - the maximum distance between the two random distributions M(x) and M(y) is 1 (because all these queries have some amount of randomness in them, just like we observed in the last section).\n",
        "\n",
        "# Delta\n",
        "\n",
        "Delta is basically the probability that epsilon breaks. Namely, sometimes the epsilon is different for some queries than it is for others. For example, you may remember when we were calculating the sensitivity of threshold, most of the time sensitivity was 0 but sometimes it was 1. Thus, we could calculate this as \"epsilon zero but non-zero delta\" which would say that epsilon is perfect except for some probability of the time when it's arbitrarily higher. Note that this expression doesn't represent the full tradeoff between epsilon and delta."
      ]
    },
    {
      "cell_type": "markdown",
      "metadata": {
        "id": "MV12MsPI5BK1",
        "colab_type": "text"
      },
      "source": [
        "# Lesson: How To Add Noise for Global Differential Privacy\n",
        "\n",
        "In this lesson, we're going to learn about how to take a query and add varying amounts of noise so that it satisfies a certain degree of differential privacy. In particular, we're going to leave behind the Local Differential privacy previously discussed and instead opt to focus on Global differential privacy. \n",
        "\n",
        "So, to sum up, this lesson is about adding noise to the output of our query so that it satisfies a certain epsilon-delta differential privacy threshold.\n",
        "\n",
        "There are two kinds of noise we can add - Gaussian Noise or Laplacian Noise. Generally speaking Laplacian is better, but both are still valid. Now to the hard question...\n",
        "\n",
        "### How much noise should we add?\n",
        "\n",
        "The amount of noise necessary to add to the output of a query is a function of four things:\n",
        "\n",
        "- the type of noise (Gaussian/Laplacian)\n",
        "- the sensitivity of the query/function\n",
        "- the desired epsilon (ε)\n",
        "- the desired delta (δ)\n",
        "\n",
        "Thus, for each type of noise we're adding, we have different way of calculating how much to add as a function of sensitivity, epsilon, and delta. We're going to focus on Laplacian noise. Laplacian noise is increased/decreased according to a \"scale\" parameter b. We choose \"b\" based on the following formula.\n",
        "\n",
        "b = sensitivity(query) / epsilon\n",
        "\n",
        "In other words, if we set b to be this value, then we know that we will have a privacy leakage of <= epsilon. Furthermore, the nice thing about Laplace is that it guarantees this with delta == 0. There are some tunings where we can have very low epsilon where delta is non-zero, but we'll ignore them for now.\n",
        "\n",
        "### Querying Repeatedly\n",
        "\n",
        "- if we query the database multiple times - we can simply add the epsilons (Even if we change the amount of noise and their epsilons are not the same)."
      ]
    },
    {
      "cell_type": "code",
      "metadata": {
        "id": "hRcJfnp45BK2",
        "colab_type": "code",
        "colab": {}
      },
      "source": [
        ""
      ],
      "execution_count": 0,
      "outputs": []
    },
    {
      "cell_type": "markdown",
      "metadata": {
        "id": "x8r7HiI25BK2",
        "colab_type": "text"
      },
      "source": [
        "# Project: Create a Differentially Private Query\n",
        "\n",
        "In this project, I want you to take what you learned in the previous lesson and create a query function which sums over the database and adds just the right amount of noise such that it satisfies an epsilon constraint. Write a query for both \"sum\" and for \"mean\". Ensure that you use the correct sensitivity measures for both."
      ]
    },
    {
      "cell_type": "code",
      "metadata": {
        "id": "TaFnnkFg5BK3",
        "colab_type": "code",
        "colab": {}
      },
      "source": [
        "# try this project here!"
      ],
      "execution_count": 0,
      "outputs": []
    },
    {
      "cell_type": "code",
      "metadata": {
        "id": "9LlDtc0b5BK5",
        "colab_type": "code",
        "colab": {}
      },
      "source": [
        ""
      ],
      "execution_count": 0,
      "outputs": []
    },
    {
      "cell_type": "code",
      "metadata": {
        "id": "DiyjnaXm5BK6",
        "colab_type": "code",
        "colab": {}
      },
      "source": [
        ""
      ],
      "execution_count": 0,
      "outputs": []
    },
    {
      "cell_type": "code",
      "metadata": {
        "id": "cqJSW-n-5BK7",
        "colab_type": "code",
        "colab": {}
      },
      "source": [
        ""
      ],
      "execution_count": 0,
      "outputs": []
    },
    {
      "cell_type": "code",
      "metadata": {
        "id": "XiPXzxWH5BK8",
        "colab_type": "code",
        "colab": {}
      },
      "source": [
        ""
      ],
      "execution_count": 0,
      "outputs": []
    },
    {
      "cell_type": "code",
      "metadata": {
        "id": "Mkvlk72r5BK9",
        "colab_type": "code",
        "colab": {}
      },
      "source": [
        ""
      ],
      "execution_count": 0,
      "outputs": []
    },
    {
      "cell_type": "code",
      "metadata": {
        "id": "PXqd5HNZ5BK-",
        "colab_type": "code",
        "colab": {}
      },
      "source": [
        ""
      ],
      "execution_count": 0,
      "outputs": []
    },
    {
      "cell_type": "code",
      "metadata": {
        "id": "xZK2hA8U5BK_",
        "colab_type": "code",
        "colab": {}
      },
      "source": [
        ""
      ],
      "execution_count": 0,
      "outputs": []
    },
    {
      "cell_type": "code",
      "metadata": {
        "id": "sH0DVicA5BLA",
        "colab_type": "code",
        "colab": {}
      },
      "source": [
        ""
      ],
      "execution_count": 0,
      "outputs": []
    },
    {
      "cell_type": "markdown",
      "metadata": {
        "id": "JFrUdcRH5BLB",
        "colab_type": "text"
      },
      "source": [
        "# Lesson: Differential Privacy for Deep Learning\n",
        "\n",
        "So in the last lessons you may have been wondering - what does all of this have to do with Deep Learning? Well, these same techniques we were just studying form the core primitives for how Differential Privacy provides guarantees in the context of Deep Learning. \n",
        "\n",
        "Previously, we defined perfect privacy as \"a query to a database returns the same value even if we remove any person from the database\", and used this intuition in the description of epsilon/delta. In the context of deep learning we have a similar standard.\n",
        "\n",
        "Training a model on a dataset should return the same model even if we remove any person from the dataset.\n",
        "\n",
        "Thus, we've replaced \"querying a database\" with \"training a model on a dataset\". In essence, the training process is a kind of query. However, one should note that this adds two points of complexity which database queries did not have:\n",
        "\n",
        "    1. do we always know where \"people\" are referenced in the dataset?\n",
        "    2. neural models rarely never train to the same output model, even on identical data\n",
        "\n",
        "The answer to (1) is to treat each training example as a single, separate person. Strictly speaking, this is often overly zealous as some training examples have no relevance to people and others may have multiple/partial (consider an image with multiple people contained within it). Thus, localizing exactly where \"people\" are referenced, and thus how much your model would change if people were removed, is challenging.\n",
        "\n",
        "The answer to (2) is also an open problem - but several interesitng proposals have been made. We're going to focus on one of the most popular proposals, PATE.\n",
        "\n",
        "## An Example Scenario: A Health Neural Network\n",
        "\n",
        "First we're going to consider a scenario - you work for a hospital and you have a large collection of images about your patients. However, you don't know what's in them. You would like to use these images to develop a neural network which can automatically classify them, however since your images aren't labeled, they aren't sufficient to train a classifier. \n",
        "\n",
        "However, being a cunning strategist, you realize that you can reach out to 10 partner hospitals which DO have annotated data. It is your hope to train your new classifier on their datasets so that you can automatically label your own. While these hospitals are interested in helping, they have privacy concerns regarding information about their patients. Thus, you will use the following technique to train a classifier which protects the privacy of patients in the other hospitals.\n",
        "\n",
        "- 1) You'll ask each of the 10 hospitals to train a model on their own datasets (All of which have the same kinds of labels)\n",
        "- 2) You'll then use each of the 10 partner models to predict on your local dataset, generating 10 labels for each of your datapoints\n",
        "- 3) Then, for each local data point (now with 10 labels), you will perform a DP query to generate the final true label. This query is a \"max\" function, where \"max\" is the most frequent label across the 10 labels. We will need to add laplacian noise to make this Differentially Private to a certain epsilon/delta constraint.\n",
        "- 4) Finally, we will retrain a new model on our local dataset which now has labels. This will be our final \"DP\" model.\n",
        "\n",
        "So, let's walk through these steps. I will assume you're already familiar with how to train/predict a deep neural network, so we'll skip steps 1 and 2 and work with example data. We'll focus instead on step 3, namely how to perform the DP query for each example using toy data.\n",
        "\n",
        "So, let's say we have 10,000 training examples, and we've got 10 labels for each example (from our 10 \"teacher models\" which were trained directly on private data). Each label is chosen from a set of 10 possible labels (categories) for each image."
      ]
    },
    {
      "cell_type": "code",
      "metadata": {
        "id": "pPYsz4z55BLC",
        "colab_type": "code",
        "colab": {}
      },
      "source": [
        "import numpy as np"
      ],
      "execution_count": 0,
      "outputs": []
    },
    {
      "cell_type": "code",
      "metadata": {
        "id": "3TAxH0ZV5BLE",
        "colab_type": "code",
        "colab": {}
      },
      "source": [
        "num_teachers = 10 # we're working with 10 partner hospitals\n",
        "num_examples = 10000 # the size of OUR dataset\n",
        "num_labels = 10 # number of lablels for our classifier"
      ],
      "execution_count": 0,
      "outputs": []
    },
    {
      "cell_type": "code",
      "metadata": {
        "id": "e3pfLJQ-5BLG",
        "colab_type": "code",
        "colab": {}
      },
      "source": [
        "preds = (np.random.rand(num_teachers, num_examples) * num_labels).astype(int).transpose(1,0) # fake predictions"
      ],
      "execution_count": 0,
      "outputs": []
    },
    {
      "cell_type": "code",
      "metadata": {
        "id": "tbBANFve5BLJ",
        "colab_type": "code",
        "colab": {}
      },
      "source": [
        "new_labels = list()\n",
        "for an_image in preds:\n",
        "\n",
        "    label_counts = np.bincount(an_image, minlength=num_labels)\n",
        "\n",
        "    epsilon = 0.1\n",
        "    beta = 1 / epsilon\n",
        "\n",
        "    for i in range(len(label_counts)):\n",
        "        label_counts[i] += np.random.laplace(0, beta, 1)\n",
        "\n",
        "    new_label = np.argmax(label_counts)\n",
        "    \n",
        "    new_labels.append(new_label)"
      ],
      "execution_count": 0,
      "outputs": []
    },
    {
      "cell_type": "code",
      "metadata": {
        "id": "ilgSYTTG5BLK",
        "colab_type": "code",
        "colab": {}
      },
      "source": [
        "# new_labels"
      ],
      "execution_count": 0,
      "outputs": []
    },
    {
      "cell_type": "markdown",
      "metadata": {
        "id": "Q8CwLoPU5BLM",
        "colab_type": "text"
      },
      "source": [
        "# PATE Analysis"
      ]
    },
    {
      "cell_type": "code",
      "metadata": {
        "id": "YnI2I8JJ5BLN",
        "colab_type": "code",
        "outputId": "0fc57dd5-3fc3-41d3-cb59-6c9643cbc786",
        "colab": {}
      },
      "source": [
        "labels = np.array([9, 9, 3, 6, 9, 9, 9, 9, 8, 2])\n",
        "counts = np.bincount(labels, minlength=10)\n",
        "query_result = np.argmax(counts)\n",
        "query_result"
      ],
      "execution_count": 0,
      "outputs": [
        {
          "output_type": "execute_result",
          "data": {
            "text/plain": [
              "9"
            ]
          },
          "metadata": {
            "tags": []
          },
          "execution_count": 58
        }
      ]
    },
    {
      "cell_type": "code",
      "metadata": {
        "id": "yIBbL-pe5BLO",
        "colab_type": "code",
        "colab": {}
      },
      "source": [
        "from syft.frameworks.torch.differential_privacy import pate"
      ],
      "execution_count": 0,
      "outputs": []
    },
    {
      "cell_type": "code",
      "metadata": {
        "id": "2c4UfAMS5BLP",
        "colab_type": "code",
        "outputId": "948600dc-3816-41e8-e87a-cbde346fbd66",
        "colab": {}
      },
      "source": [
        "num_teachers, num_examples, num_labels = (100, 100, 10)\n",
        "preds = (np.random.rand(num_teachers, num_examples) * num_labels).astype(int) #fake preds\n",
        "indices = (np.random.rand(num_examples) * num_labels).astype(int) # true answers\n",
        "\n",
        "preds[:,0:10] *= 0\n",
        "\n",
        "data_dep_eps, data_ind_eps = pate.perform_analysis(teacher_preds=preds, indices=indices, noise_eps=0.1, delta=1e-5)\n",
        "\n",
        "assert data_dep_eps < data_ind_eps\n",
        "\n"
      ],
      "execution_count": 0,
      "outputs": [
        {
          "output_type": "stream",
          "text": [
            "Warning: May not have used enough values of l. Increase 'moments' variable and run again.\n"
          ],
          "name": "stdout"
        }
      ]
    },
    {
      "cell_type": "code",
      "metadata": {
        "id": "jYFELQAS5BLR",
        "colab_type": "code",
        "outputId": "561e919c-4b20-4347-ce51-02cc31ec9c08",
        "colab": {}
      },
      "source": [
        "data_dep_eps, data_ind_eps = pate.perform_analysis(teacher_preds=preds, indices=indices, noise_eps=0.1, delta=1e-5)\n",
        "print(\"Data Independent Epsilon:\", data_ind_eps)\n",
        "print(\"Data Dependent Epsilon:\", data_dep_eps)"
      ],
      "execution_count": 0,
      "outputs": [
        {
          "output_type": "stream",
          "text": [
            "Warning: May not have used enough values of l. Increase 'moments' variable and run again.\n",
            "Data Independent Epsilon: 11.756462732485115\n",
            "Data Dependent Epsilon: 1.52655213289881\n"
          ],
          "name": "stdout"
        }
      ]
    },
    {
      "cell_type": "code",
      "metadata": {
        "id": "Su13AQzz5BLT",
        "colab_type": "code",
        "colab": {}
      },
      "source": [
        "preds[:,0:50] *= 0"
      ],
      "execution_count": 0,
      "outputs": []
    },
    {
      "cell_type": "code",
      "metadata": {
        "id": "LLn5KRKU5BLT",
        "colab_type": "code",
        "outputId": "951b0738-e515-4ed9-e61d-aef2100f0fdd",
        "colab": {}
      },
      "source": [
        "data_dep_eps, data_ind_eps = pate.perform_analysis(teacher_preds=preds, indices=indices, noise_eps=0.1, delta=1e-5, moments=20)\n",
        "print(\"Data Independent Epsilon:\", data_ind_eps)\n",
        "print(\"Data Dependent Epsilon:\", data_dep_eps)"
      ],
      "execution_count": 0,
      "outputs": [
        {
          "output_type": "stream",
          "text": [
            "Data Independent Epsilon: 11.756462732485115\n",
            "Data Dependent Epsilon: 0.9029013677789843\n"
          ],
          "name": "stdout"
        }
      ]
    },
    {
      "cell_type": "code",
      "metadata": {
        "id": "Ru61lFlH5BLV",
        "colab_type": "code",
        "colab": {}
      },
      "source": [
        ""
      ],
      "execution_count": 0,
      "outputs": []
    },
    {
      "cell_type": "markdown",
      "metadata": {
        "id": "tRftnYpb5BLW",
        "colab_type": "text"
      },
      "source": [
        "# Where to Go From Here\n",
        "\n",
        "\n",
        "Read:\n",
        "* Algorithmic Foundations of Differential Privacy: https://www.cis.upenn.edu/~aaroth/Papers/privacybook.pdf\n",
        "* Deep Learning with Differential Privacy: https://arxiv.org/pdf/1607.00133.pdf\n",
        "* The Ethical Algorithm: https://www.amazon.com/Ethical-Algorithm-Science-Socially-Design/dp/0190948205\n",
        "\n",
        "\n",
        "\n",
        "   \n",
        "Topics:\n",
        "* The Exponential Mechanism\n",
        "* The Moment's Accountant\n",
        "*  Differentially Private Stochastic Gradient Descent"
      ]
    },
    {
      "cell_type": "code",
      "metadata": {
        "id": "v-Up664v5BLW",
        "colab_type": "code",
        "colab": {}
      },
      "source": [
        ""
      ],
      "execution_count": 0,
      "outputs": []
    },
    {
      "cell_type": "code",
      "metadata": {
        "id": "kd0GzxPD5BLX",
        "colab_type": "code",
        "colab": {}
      },
      "source": [
        ""
      ],
      "execution_count": 0,
      "outputs": []
    },
    {
      "cell_type": "markdown",
      "metadata": {
        "id": "MhrlyJ3K5BLY",
        "colab_type": "text"
      },
      "source": [
        "# Section Project:\n",
        "\n",
        "For the final project for this section, you're going to train a DP model using this PATE method on the MNIST dataset, provided below."
      ]
    },
    {
      "cell_type": "code",
      "metadata": {
        "id": "5DdPKLJN5BLZ",
        "colab_type": "code",
        "outputId": "13b07513-6219-4274-e206-e429c10b2115",
        "colab": {}
      },
      "source": [
        "import torchvision.datasets as datasets\n",
        "mnist_trainset = datasets.MNIST(root='./data', train=True, download=True, transform=None)"
      ],
      "execution_count": 0,
      "outputs": [
        {
          "output_type": "stream",
          "text": [
            "0it [00:00, ?it/s]"
          ],
          "name": "stderr"
        },
        {
          "output_type": "stream",
          "text": [
            "Downloading http://yann.lecun.com/exdb/mnist/train-images-idx3-ubyte.gz to ./data/MNIST/raw/train-images-idx3-ubyte.gz\n"
          ],
          "name": "stdout"
        },
        {
          "output_type": "stream",
          "text": [
            " 99%|█████████▉| 9814016/9912422 [00:13<00:00, 1981975.99it/s]"
          ],
          "name": "stderr"
        },
        {
          "output_type": "stream",
          "text": [
            "Extracting ./data/MNIST/raw/train-images-idx3-ubyte.gz\n"
          ],
          "name": "stdout"
        },
        {
          "output_type": "stream",
          "text": [
            "\n",
            "0it [00:00, ?it/s]\u001b[A"
          ],
          "name": "stderr"
        },
        {
          "output_type": "stream",
          "text": [
            "Downloading http://yann.lecun.com/exdb/mnist/train-labels-idx1-ubyte.gz to ./data/MNIST/raw/train-labels-idx1-ubyte.gz\n"
          ],
          "name": "stdout"
        },
        {
          "output_type": "stream",
          "text": [
            "\n",
            "  0%|          | 0/28881 [00:00<?, ?it/s]\u001b[A\n",
            " 57%|█████▋    | 16384/28881 [00:00<00:00, 157526.04it/s]\u001b[A\n",
            "32768it [00:00, 89641.49it/s]                            \u001b[A\n",
            "0it [00:00, ?it/s]\u001b[A"
          ],
          "name": "stderr"
        },
        {
          "output_type": "stream",
          "text": [
            "Extracting ./data/MNIST/raw/train-labels-idx1-ubyte.gz\n",
            "Downloading http://yann.lecun.com/exdb/mnist/t10k-images-idx3-ubyte.gz to ./data/MNIST/raw/t10k-images-idx3-ubyte.gz\n"
          ],
          "name": "stdout"
        },
        {
          "output_type": "stream",
          "text": [
            "\n",
            "  0%|          | 0/1648877 [00:00<?, ?it/s]\u001b[A\n",
            "  1%|          | 16384/1648877 [00:00<00:12, 130361.62it/s]\u001b[A\n",
            "  2%|▏         | 40960/1648877 [00:00<00:10, 150807.99it/s]\u001b[A\n",
            "  6%|▌         | 98304/1648877 [00:00<00:08, 192095.89it/s]\u001b[A\n",
            "  9%|▉         | 155648/1648877 [00:00<00:06, 238429.00it/s]\u001b[A\n",
            " 13%|█▎        | 212992/1648877 [00:00<00:05, 286706.68it/s]\u001b[A\n",
            " 16%|█▋        | 270336/1648877 [00:00<00:04, 334215.55it/s]\u001b[A\n",
            " 20%|██        | 335872/1648877 [00:01<00:03, 381238.88it/s]\u001b[A\n",
            " 24%|██▍       | 401408/1648877 [00:01<00:02, 427862.04it/s]\u001b[A\n",
            " 29%|██▉       | 475136/1648877 [00:01<00:02, 473317.53it/s]\u001b[A\n",
            " 33%|███▎      | 548864/1648877 [00:01<00:02, 514677.63it/s]\u001b[A\n",
            " 38%|███▊      | 622592/1648877 [00:01<00:01, 542331.15it/s]\u001b[A\n",
            " 43%|████▎     | 704512/1648877 [00:01<00:01, 574474.97it/s]\u001b[A\n",
            " 48%|████▊     | 786432/1648877 [00:01<00:01, 612895.02it/s]\u001b[A\n",
            " 53%|█████▎    | 868352/1648877 [00:01<00:01, 656129.61it/s]\u001b[A\n",
            " 59%|█████▊    | 966656/1648877 [00:01<00:00, 706437.60it/s]\u001b[A\n",
            " 64%|██████▍   | 1056768/1648877 [00:02<00:00, 752979.15it/s]\u001b[A\n",
            " 69%|██████▉   | 1138688/1648877 [00:02<00:00, 657984.36it/s]\u001b[A\n",
            " 75%|███████▌  | 1236992/1648877 [00:02<00:00, 725740.95it/s]\u001b[A\n",
            " 81%|████████  | 1335296/1648877 [00:02<00:00, 785571.95it/s]\u001b[A\n",
            " 87%|████████▋ | 1441792/1648877 [00:02<00:00, 831515.47it/s]\u001b[A\n",
            " 94%|█████████▍| 1556480/1648877 [00:02<00:00, 887707.79it/s]\u001b[A\n",
            "1654784it [00:02, 619527.52it/s]                             \u001b[A\n",
            "0it [00:00, ?it/s]\u001b[A"
          ],
          "name": "stderr"
        },
        {
          "output_type": "stream",
          "text": [
            "Extracting ./data/MNIST/raw/t10k-images-idx3-ubyte.gz\n",
            "Downloading http://yann.lecun.com/exdb/mnist/t10k-labels-idx1-ubyte.gz to ./data/MNIST/raw/t10k-labels-idx1-ubyte.gz\n"
          ],
          "name": "stdout"
        },
        {
          "output_type": "stream",
          "text": [
            "\n",
            "  0%|          | 0/4542 [00:00<?, ?it/s]\u001b[A\n",
            "8192it [00:00, 33143.73it/s]            \u001b[A"
          ],
          "name": "stderr"
        },
        {
          "output_type": "stream",
          "text": [
            "Extracting ./data/MNIST/raw/t10k-labels-idx1-ubyte.gz\n",
            "Processing...\n",
            "Done!\n"
          ],
          "name": "stdout"
        }
      ]
    },
    {
      "cell_type": "code",
      "metadata": {
        "id": "4g9aXRid5BLa",
        "colab_type": "code",
        "outputId": "d8dd5acb-c866-47dc-a4c5-280177cc0383",
        "colab": {}
      },
      "source": [
        "train_data = mnist_trainset.train_data\n",
        "train_targets = mnist_trainset.train_labels"
      ],
      "execution_count": 0,
      "outputs": [
        {
          "output_type": "stream",
          "text": [
            "/Users/atrask/anaconda/lib/python3.6/site-packages/torchvision/datasets/mnist.py:53: UserWarning: train_data has been renamed data\n",
            "  warnings.warn(\"train_data has been renamed data\")\n",
            "/Users/atrask/anaconda/lib/python3.6/site-packages/torchvision/datasets/mnist.py:43: UserWarning: train_labels has been renamed targets\n",
            "  warnings.warn(\"train_labels has been renamed targets\")\n"
          ],
          "name": "stderr"
        }
      ]
    },
    {
      "cell_type": "code",
      "metadata": {
        "id": "doUE6uzG5BLc",
        "colab_type": "code",
        "outputId": "575a627d-9470-437f-f1e6-cd03f92a2962",
        "colab": {}
      },
      "source": [
        "test_data = mnist_trainset.test_data\n",
        "test_targets = mnist_trainset.test_labels"
      ],
      "execution_count": 0,
      "outputs": [
        {
          "output_type": "stream",
          "text": [
            "/Users/atrask/anaconda/lib/python3.6/site-packages/torchvision/datasets/mnist.py:58: UserWarning: test_data has been renamed data\n",
            "  warnings.warn(\"test_data has been renamed data\")\n",
            "/Users/atrask/anaconda/lib/python3.6/site-packages/torchvision/datasets/mnist.py:48: UserWarning: test_labels has been renamed targets\n",
            "  warnings.warn(\"test_labels has been renamed targets\")\n"
          ],
          "name": "stderr"
        }
      ]
    },
    {
      "cell_type": "code",
      "metadata": {
        "id": "V2vQTugr5BLf",
        "colab_type": "code",
        "colab": {}
      },
      "source": [
        ""
      ],
      "execution_count": 0,
      "outputs": []
    }
  ]
}